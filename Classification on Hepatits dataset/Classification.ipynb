{
  "nbformat": 4,
  "nbformat_minor": 0,
  "metadata": {
    "colab": {
      "name": "Classification.ipynb",
      "provenance": []
    },
    "kernelspec": {
      "name": "python3",
      "display_name": "Python 3"
    },
    "language_info": {
      "name": "python"
    }
  },
  "cells": [
    {
      "cell_type": "code",
      "execution_count": 3,
      "metadata": {
        "id": "Sxwr3vOclZ-8"
      },
      "outputs": [],
      "source": [
        "import numpy as np, pandas as pd\n",
        "import matplotlib.pyplot as plt\n",
        "from sklearn.ensemble import RandomForestClassifier , AdaBoostClassifier\n",
        "from sklearn.neighbors import KNeighborsClassifier\n",
        "from sklearn.linear_model import LogisticRegression\n",
        "import warnings\n",
        "from sklearn import preprocessing\n",
        "from sklearn.ensemble import BaggingClassifier\n",
        "from sklearn.naive_bayes import GaussianNB\n",
        "from sklearn.ensemble import ExtraTreesClassifier\n",
        "from sklearn.linear_model import SGDClassifier\n",
        "from sklearn.tree import DecisionTreeClassifier\n",
        "from sklearn.ensemble import GradientBoostingClassifier\n",
        "from sklearn.ensemble import HistGradientBoostingClassifier\n",
        "from sklearn.ensemble import VotingClassifier\n",
        "from sklearn import svm\n",
        "from sklearn.svm import SVC\n",
        "from sklearn.metrics import accuracy_score\n",
        "from sklearn.feature_selection import SelectKBest, chi2\n",
        "from sklearn.model_selection import cross_val_predict , cross_val_score\n",
        "from sklearn.preprocessing import StandardScaler\n",
        "from sklearn.preprocessing import MinMaxScaler\n",
        "\n",
        "warnings.filterwarnings('ignore')"
      ]
    },
    {
      "cell_type": "code",
      "source": [
        "data =pd.read_csv('hepatitis.data',header=None) "
      ],
      "metadata": {
        "id": "5xwskhsDlr1F"
      },
      "execution_count": 2,
      "outputs": []
    },
    {
      "cell_type": "code",
      "source": [
        "# Convert ? to Nan values \n",
        "data.replace('?', np.NaN,inplace=True) \n",
        "# drop the rows with more than 3 null valeus\n",
        "data=data[data.isnull().sum(axis=1) < 3] \n",
        "# filling missing values with median \n",
        "data.fillna(data.median(), inplace=True) \n",
        "X = data.iloc[:, 0:-1].values\n",
        "y = data.iloc[:, -1] "
      ],
      "metadata": {
        "id": "i4auMQfZlr4D"
      },
      "execution_count": 5,
      "outputs": []
    },
    {
      "cell_type": "markdown",
      "source": [
        "Select the k best features "
      ],
      "metadata": {
        "id": "2zGqKiBnntwH"
      }
    },
    {
      "cell_type": "code",
      "source": [
        "best = 0\n",
        "best_acc = 0 \n",
        "a = np.zeros(20)\n",
        "b = np.zeros(20)\n",
        "d = np.zeros(20)\n",
        "c = np.ones(20)\n",
        "\n",
        "for i in range (1, 20):\n",
        "    X_new = SelectKBest(chi2, k=i).fit_transform(X, y)\n",
        "    sc = StandardScaler()\n",
        "    X_new = sc.fit_transform(X_new)\n",
        "    clf = GaussianNB()\n",
        "    y_pred = cross_val_predict(clf, X_new, y, cv=10)\n",
        "    accuracy = accuracy_score(y, y_pred)\n",
        "    a[i] = i\n",
        "    b[i] = accuracy\n",
        "    d[i] = i/20\n",
        "    if accuracy > best_acc:\n",
        "        best_acc = accuracy\n",
        "        best = i"
      ],
      "metadata": {
        "id": "k3d7iXfdlr6Y"
      },
      "execution_count": 10,
      "outputs": []
    },
    {
      "cell_type": "code",
      "source": [
        "c = best*c \n",
        "\n",
        "plt.xlabel('K')\n",
        "plt.ylabel('accuracy')\n",
        "plt.plot(a,b, marker='.',linestyle='-', color='b',label='accuracy per k')\n",
        "plt.plot(c,d, marker='',linestyle='--', color='r',label='best k')\n",
        "plt.legend(loc='upper right')\n",
        "plt.title(\"accuracy per K plot for NB classifier\")\n",
        "plt.show()\n",
        "print(\"best k: \", best)"
      ],
      "metadata": {
        "colab": {
          "base_uri": "https://localhost:8080/",
          "height": 312
        },
        "id": "J_OxWNidlr9Z",
        "outputId": "dc3e7dec-f204-42ce-cdc3-369d83db6ef8"
      },
      "execution_count": 12,
      "outputs": [
        {
          "output_type": "display_data",
          "data": {
            "text/plain": [
              "<Figure size 432x288 with 1 Axes>"
            ],
            "image/png": "[encoded data removed]"
          },
          "metadata": {
            "needs_background": "light"
          }
        },
        {
          "output_type": "stream",
          "name": "stdout",
          "text": [
            "best k:  8\n"
          ]
        }
      ]
    },
    {
      "cell_type": "code",
      "source": [
        "X_new = SelectKBest(chi2, k=best).fit_transform(X, y) \n",
        "sc= MinMaxScaler() \n",
        "X_new = sc.fit_transform(X_new)"
      ],
      "metadata": {
        "id": "iELyG4Cblr_m"
      },
      "execution_count": 13,
      "outputs": []
    },
    {
      "cell_type": "markdown",
      "source": [
        "Checking some voting models which four of them are selected."
      ],
      "metadata": {
        "id": "K3qAWjWlpPBU"
      }
    },
    {
      "cell_type": "code",
      "source": [
        "clf1 = LogisticRegression(solver='liblinear', penalty=\"l1\", C=10, max_iter=100) \n",
        "clf2 = GaussianNB()\n",
        "clf3 = KNeighborsClassifier(n_neighbors=5)\n",
        "clf = VotingClassifier(estimators=[('lr', clf1), ('rf', clf2), ('KNN', clf3)], voting='hard')\n",
        "y_pred = cross_val_predict(clf, X_new, y, cv=10)\n",
        "accuracy = accuracy_score(y, y_pred)\n",
        "print ('accuracy for 1st voting model: ', accuracy)"
      ],
      "metadata": {
        "colab": {
          "base_uri": "https://localhost:8080/"
        },
        "id": "4GvUzIvSlsBo",
        "outputId": "18df039a-7f9f-4938-86b7-2caf7f43dd7d"
      },
      "execution_count": 30,
      "outputs": [
        {
          "output_type": "stream",
          "name": "stdout",
          "text": [
            "accuracy for 1st voting model:  0.7391304347826086\n"
          ]
        }
      ]
    },
    {
      "cell_type": "code",
      "source": [
        "LogReg_clf = LogisticRegression(solver='liblinear', penalty=\"l1\", C=1, max_iter=100) \n",
        "GNB = GaussianNB() \n",
        "SVC_clf = svm.SVC()\n",
        "voting_clf = VotingClassifier(estimators=[('SVC', SVC_clf), ('GNB', GNB), ('LogReg', LogReg_clf)], voting='hard')\n",
        "y_pred = cross_val_predict(voting_clf, X_new, y, cv=10)\n",
        "accuracy = accuracy_score(y, y_pred)\n",
        "print ('accuracy for 2nd voting model: ', accuracy)"
      ],
      "metadata": {
        "colab": {
          "base_uri": "https://localhost:8080/"
        },
        "id": "z_iEpb0tlsFG",
        "outputId": "09942f27-c1dd-471f-f87e-323fd23eaad7"
      },
      "execution_count": 31,
      "outputs": [
        {
          "output_type": "stream",
          "name": "stdout",
          "text": [
            "accuracy for 2nd voting model:  0.7101449275362319\n"
          ]
        }
      ]
    },
    {
      "cell_type": "code",
      "source": [
        "classifiers = [\n",
        "    ('KNN',KNeighborsClassifier(n_neighbors=5)),\n",
        "    ('GNB', GaussianNB()),\n",
        "    ('svc', svm.SVC(kernel='rbf', gamma=1)),\n",
        "]\n",
        "clftwo = VotingClassifier(classifiers, voting='hard')\n",
        "y_pred = cross_val_predict(clftwo, X_new, y, cv=10)\n",
        "accuracy = accuracy_score(y, y_pred)\n",
        "print ('accuracy for 3rd voting model: ', accuracy)"
      ],
      "metadata": {
        "colab": {
          "base_uri": "https://localhost:8080/"
        },
        "id": "s0IiZSUKlsHe",
        "outputId": "2648540c-a453-494c-ff64-31b6c22655d7"
      },
      "execution_count": 32,
      "outputs": [
        {
          "output_type": "stream",
          "name": "stdout",
          "text": [
            "accuracy for 3rd voting model:  0.7536231884057971\n"
          ]
        }
      ]
    },
    {
      "cell_type": "code",
      "source": [
        "classifiers = [\n",
        "    ('KNN1',KNeighborsClassifier(n_neighbors=7)),\n",
        "    ('KNN2', KNeighborsClassifier(n_neighbors=5)),\n",
        "    ('KNN3', KNeighborsClassifier(n_neighbors=17)),\n",
        "]\n",
        "clftwo = VotingClassifier(classifiers , voting='hard')\n",
        "y_pred = cross_val_predict(clftwo, X_new, y, cv=10)\n",
        "accuracy = accuracy_score(y, y_pred)\n",
        "print ('accuracy for 4th voting model: ', accuracy)"
      ],
      "metadata": {
        "colab": {
          "base_uri": "https://localhost:8080/"
        },
        "id": "EMBY4JI1lsKF",
        "outputId": "f795a792-9124-4076-d99c-e5b308c2e669"
      },
      "execution_count": 33,
      "outputs": [
        {
          "output_type": "stream",
          "name": "stdout",
          "text": [
            "accuracy for 4th voting model:  0.717391304347826\n"
          ]
        }
      ]
    },
    {
      "cell_type": "markdown",
      "source": [
        "Base Models of the best voting models"
      ],
      "metadata": {
        "id": "QnctCPQ-phe4"
      }
    },
    {
      "cell_type": "code",
      "source": [
        "clf1 = LogisticRegression(solver='liblinear', penalty=\"l2\", C=1, max_iter=100)\n",
        "y_pred = cross_val_predict(clf1, X_new, y, cv=10)\n",
        "accuracy = accuracy_score(y, y_pred)\n",
        "print ('accuracy for Logistic Regression: ', accuracy)"
      ],
      "metadata": {
        "colab": {
          "base_uri": "https://localhost:8080/"
        },
        "id": "hjVcUavjo_RN",
        "outputId": "b9aadb7d-5593-4f48-d15c-86ba43e76ece"
      },
      "execution_count": 34,
      "outputs": [
        {
          "output_type": "stream",
          "name": "stdout",
          "text": [
            "accuracy for Logistic Regression:  0.7028985507246377\n"
          ]
        }
      ]
    },
    {
      "cell_type": "code",
      "source": [
        "clf2 = GaussianNB()\n",
        "y_pred = cross_val_predict(clf2, X_new, y, cv=10)\n",
        "accuracy = accuracy_score(y, y_pred)\n",
        "print ('accuracy for GB: ', accuracy)"
      ],
      "metadata": {
        "colab": {
          "base_uri": "https://localhost:8080/"
        },
        "id": "Lb4sBa2No_Uh",
        "outputId": "006cdb14-798e-4207-f3d4-4a21851ff3c5"
      },
      "execution_count": 35,
      "outputs": [
        {
          "output_type": "stream",
          "name": "stdout",
          "text": [
            "accuracy for GB:  0.7246376811594203\n"
          ]
        }
      ]
    },
    {
      "cell_type": "code",
      "source": [
        "SVC_clf = svm.SVC(kernel='rbf', gamma=1)\n",
        "y_pred = cross_val_predict(SVC_clf, X_new, y, cv=10)\n",
        "accuracy = accuracy_score(y, y_pred)\n",
        "print ('accuracy for SVM: ', accuracy)"
      ],
      "metadata": {
        "colab": {
          "base_uri": "https://localhost:8080/"
        },
        "id": "pmLHbNXXo_XH",
        "outputId": "cb4087b2-e86e-4db4-cdc1-8dd2f2a1ce30"
      },
      "execution_count": 36,
      "outputs": [
        {
          "output_type": "stream",
          "name": "stdout",
          "text": [
            "accuracy for SVM:  0.717391304347826\n"
          ]
        }
      ]
    },
    {
      "cell_type": "code",
      "source": [
        "DT = DecisionTreeClassifier()\n",
        "y_pred = cross_val_predict(DT, X_new, y, cv=10)\n",
        "accuracy = accuracy_score(y, y_pred)\n",
        "print ('accuracy for DT: ', accuracy)"
      ],
      "metadata": {
        "colab": {
          "base_uri": "https://localhost:8080/"
        },
        "id": "b_xxzSDPppQL",
        "outputId": "90d5d826-3844-4bb8-a622-a32f4fe188c8"
      },
      "execution_count": 37,
      "outputs": [
        {
          "output_type": "stream",
          "name": "stdout",
          "text": [
            "accuracy for DT:  0.5434782608695652\n"
          ]
        }
      ]
    },
    {
      "cell_type": "code",
      "source": [
        ""
      ],
      "metadata": {
        "id": "m603tx_vo_Zw"
      },
      "execution_count": 37,
      "outputs": []
    }
  ]
}